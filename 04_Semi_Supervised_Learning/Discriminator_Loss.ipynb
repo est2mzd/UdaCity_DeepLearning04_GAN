{
 "cells": [
  {
   "cell_type": "markdown",
   "metadata": {},
   "source": [
    "### Summary\n",
    "<p>\n",
    "    I found the equation mistake in \"the semi-supervised_learning_2.ipynb\". <br>\n",
    "    I modified the mistake.<br><br>\n",
    "    There is 2 good point and 1 bad point.<br>\n",
    "</p>\n",
    "\n",
    "<ol>\n",
    "    <li>The last pictures after training become better.\n",
    "    </li>\n",
    "    <li>I confirmed that my equation is correct by running python scripts.<br>\n",
    "        I will show the script in the bottom of this file.\n",
    "    </li> \n",
    "</ol>\n",
    "\n",
    "<ol>    \n",
    "    <li>The accuracy of test becomes worse.\n",
    "    </li>        \n",
    "</ol>\n",
    "<p>\n",
    "    The original script is <br>\n",
    "    \"semi-supervised_learning_2_solution.ipynb\".<br><br>\n",
    "    The modified script is <br>\n",
    "    \"semi-supervised_learning_2_solution_modified.ipynb\".<br><br>    \n",
    "</p>\n",
    "\n",
    "### I show the detail in next cells."
   ]
  },
  {
   "cell_type": "markdown",
   "metadata": {},
   "source": [
    "### My Question\n",
    "<p>\n",
    "    Why does the original equation be able to get better test score and blur images?\n",
    "</p>"
   ]
  },
  {
   "cell_type": "markdown",
   "metadata": {},
   "source": [
    "<p>\n",
    "In the \"semi-supervised_learning_2.ipynb\",<br>\n",
    "there is an explanation of the loss of discriminator.<br>\n",
    "I show that in the next cell.\n",
    "</p>"
   ]
  },
  {
   "cell_type": "code",
   "execution_count": 1,
   "metadata": {},
   "outputs": [],
   "source": [
    "# Set gan_logits such that P(input is real | input) = sigmoid(gan_logits).\n",
    "# Keep in mind that class_logits gives you the probability distribution over all the real\n",
    "# classes and the fake class. You need to work out how to transform this multiclass softmax\n",
    "# distribution into a binary real-vs-fake decision that can be described with a sigmoid.\n",
    "# Numerical stability is very important.\n",
    "# You'll probably need to use this numerical stability trick:\n",
    "# log sum_i exp a_i = m + log sum_i exp(a_i - m).\n",
    "# This is numerically stable when m = max_i a_i.\n",
    "# (It helps to think about what goes wrong when...\n",
    "#   1. One value of a_i is very large\n",
    "#   2. All the values of a_i are very negative\n",
    "# This trick and this value of m fix both those cases, but the naive implementation and\n",
    "# other values of m encounter various problems)"
   ]
  },
  {
   "cell_type": "markdown",
   "metadata": {},
   "source": [
    "<p>\n",
    "    In the above cell, they say,<br>\n",
    "      \" # log sum_i exp a_i = m + log sum_i exp(a_i - m). \"<br>\n",
    "</p>  \n",
    "$$    \n",
    "    \\begin{align*}\n",
    "    &log( \\sum_{i}^{N}exp(a_i)) = m + log( \\sum_{i}^{N}exp(a_i - m) ) \\\\\n",
    "    \\end{align*}\\\\\n",
    "$$    \n",
    "</p>\n",
    "    But this equation is wrong.<br>\n",
    "    I show my equation.\n",
    "</p>\n",
    "$$   \n",
    "    \\begin{align*} \n",
    "    &log( \\sum_{i}^{N}exp(a_i - m) ) \\\\\n",
    "    & = \\sum_{i}^{N}( a_i - m ) \\\\\n",
    "    &= \\sum_{i}^{N}(a_i)  - N*m  \\\\\n",
    "    &= log( \\sum_{i}^{N}exp(a_i))  - N*m \\\\\n",
    "    \\end{align*}\n",
    "$$\n",
    "</p>\n",
    "    So, finally, I can write the next equation.\n",
    "</p>\n",
    "$$   \n",
    "    \\begin{align*}    \n",
    "    &log( \\sum_{i}^{N}exp(a_i)) = N*m + log( \\sum_{i}^{N}exp(a_i - m) ) \\\\\n",
    "    \\end{align*}\\\\    \n",
    "$$ "
   ]
  },
  {
   "cell_type": "markdown",
   "metadata": {},
   "source": [
    "### I show my script to check equations"
   ]
  },
  {
   "cell_type": "code",
   "execution_count": 2,
   "metadata": {},
   "outputs": [],
   "source": [
    "import numpy as np\n",
    "a    = [1,2,3,4,5]\n",
    "m    = 2\n",
    "N    = len(a)"
   ]
  },
  {
   "cell_type": "code",
   "execution_count": 3,
   "metadata": {},
   "outputs": [
    {
     "name": "stdout",
     "output_type": "stream",
     "text": [
      "expr1 =  15.0\n"
     ]
    }
   ],
   "source": [
    "# log sum_i exp a_i \n",
    "sum1 = 0\n",
    "\n",
    "for ai in a:\n",
    "    sum1 = np.log( np.exp(ai) ) + sum1 \n",
    "\n",
    "print(\"expr1 = \", sum1)"
   ]
  },
  {
   "cell_type": "code",
   "execution_count": 4,
   "metadata": {},
   "outputs": [
    {
     "name": "stdout",
     "output_type": "stream",
     "text": [
      "expr2 =  5.0\n"
     ]
    }
   ],
   "source": [
    "# log sum_i exp(a_i - m)\n",
    "sum2 = 0\n",
    "\n",
    "for ai in a:\n",
    "    sum2 = np.log( np.exp(ai - m) ) + sum2 \n",
    "\n",
    "print(\"expr2 = \", sum2)"
   ]
  },
  {
   "cell_type": "code",
   "execution_count": 5,
   "metadata": {},
   "outputs": [
    {
     "name": "stdout",
     "output_type": "stream",
     "text": [
      "My equation is correct !\n"
     ]
    }
   ],
   "source": [
    "# Check which equation is correct.\n",
    "equation_of_uda_city = sum1 - m\n",
    "equation_of_me       = sum1 - N * m\n",
    "\n",
    "if int(sum2) == int(equation_of_uda_city):\n",
    "    print(\"UdaCity's equation is correct !\")\n",
    "    \n",
    "elif  int(sum2) == int(equation_of_me):\n",
    "    print(\"My equation is correct !\")"
   ]
  },
  {
   "cell_type": "code",
   "execution_count": null,
   "metadata": {},
   "outputs": [],
   "source": []
  }
 ],
 "metadata": {
  "kernelspec": {
   "display_name": "Python 3",
   "language": "python",
   "name": "python3"
  },
  "language_info": {
   "codemirror_mode": {
    "name": "ipython",
    "version": 3
   },
   "file_extension": ".py",
   "mimetype": "text/x-python",
   "name": "python",
   "nbconvert_exporter": "python",
   "pygments_lexer": "ipython3",
   "version": "3.6.8"
  }
 },
 "nbformat": 4,
 "nbformat_minor": 2
}
